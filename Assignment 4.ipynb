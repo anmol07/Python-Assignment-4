{
 "cells": [
  {
   "cell_type": "code",
   "execution_count": 7,
   "metadata": {},
   "outputs": [],
   "source": [
    "class area:     \n",
    "    def __init__(side,a,b,c):\n",
    "        side.a = float(input('A : '))\n",
    "        side.b = float(input('B : '))\n",
    "        side.c = float(input('C : '))\n",
    "        \n",
    "        if side.a + side.b <= side.c:\n",
    "            print('Not an Ideal Triangle')\n",
    "                \n",
    "class area_triangle(area):\n",
    "    def __init__(side,a,b,c):\n",
    "        super().__init__(a,b,c)\n",
    "    \n",
    "    def area_is(side):\n",
    "        s = (side.a+side.b+side.c)/2\n",
    "        \n",
    "        area =  float((s*((s-side.a)*(s-side.b)*(s-side.c))))**0.5\n",
    "        print('Area is : ',area)"
   ]
  },
  {
   "cell_type": "code",
   "execution_count": 9,
   "metadata": {},
   "outputs": [
    {
     "name": "stdout",
     "output_type": "stream",
     "text": [
      "A : 2\n",
      "B : 3\n",
      "C : 4\n",
      "Area is :  2.9047375096555625\n"
     ]
    }
   ],
   "source": [
    "triangleare= area_triangle(0,0,0)\n",
    "triangleare.area_is()"
   ]
  },
  {
   "cell_type": "code",
   "execution_count": 30,
   "metadata": {},
   "outputs": [
    {
     "name": "stdout",
     "output_type": "stream",
     "text": [
      "Enter length : 4\n"
     ]
    }
   ],
   "source": [
    "lst= ['Input','for','the','function','is','use','to','print','words','bigger','then','input','value','.']\n",
    "n = int(input('Enter length : '))"
   ]
  },
  {
   "cell_type": "code",
   "execution_count": 31,
   "metadata": {},
   "outputs": [],
   "source": [
    "ret = []\n",
    "def filterwords(lst,n):\n",
    "    for i in lst:\n",
    "        if len(i)>n:\n",
    "            ret.append(i)\n",
    "    return ret"
   ]
  },
  {
   "cell_type": "code",
   "execution_count": 32,
   "metadata": {},
   "outputs": [
    {
     "data": {
      "text/plain": [
       "['input', 'function']"
      ]
     },
     "execution_count": 32,
     "metadata": {},
     "output_type": "execute_result"
    }
   ],
   "source": [
    "filterwords(l,n)"
   ]
  },
  {
   "cell_type": "code",
   "execution_count": 33,
   "metadata": {},
   "outputs": [],
   "source": [
    "length = []\n",
    "def count_lent(lst):\n",
    "    for i in lst:\n",
    "        length.append(len(i))\n",
    "    return length"
   ]
  },
  {
   "cell_type": "code",
   "execution_count": 34,
   "metadata": {},
   "outputs": [
    {
     "data": {
      "text/plain": [
       "[5, 3, 3, 8, 2, 3, 2, 5, 5, 6, 4, 5, 5, 1]"
      ]
     },
     "execution_count": 34,
     "metadata": {},
     "output_type": "execute_result"
    }
   ],
   "source": [
    "count_lent(lst)"
   ]
  },
  {
   "cell_type": "code",
   "execution_count": 42,
   "metadata": {},
   "outputs": [],
   "source": [
    "vowel = ['a','e','i','o','u','A','E','I','O','U']"
   ]
  },
  {
   "cell_type": "code",
   "execution_count": 43,
   "metadata": {},
   "outputs": [],
   "source": [
    "def vowels(x):\n",
    "    for i in vowel:\n",
    "        if x == i:\n",
    "            return True\n",
    "        else:\n",
    "            return False"
   ]
  },
  {
   "cell_type": "code",
   "execution_count": 44,
   "metadata": {},
   "outputs": [
    {
     "name": "stdout",
     "output_type": "stream",
     "text": [
      "False\n",
      "False\n",
      "True\n",
      "False\n"
     ]
    }
   ],
   "source": [
    "print(vowels('Z'))\n",
    "print(vowels('L'))\n",
    "print(vowels('a'))\n",
    "print(vowels('b'))"
   ]
  }
 ],
 "metadata": {
  "kernelspec": {
   "display_name": "Python 3",
   "language": "python",
   "name": "python3"
  },
  "language_info": {
   "codemirror_mode": {
    "name": "ipython",
    "version": 3
   },
   "file_extension": ".py",
   "mimetype": "text/x-python",
   "name": "python",
   "nbconvert_exporter": "python",
   "pygments_lexer": "ipython3",
   "version": "3.8.3"
  }
 },
 "nbformat": 4,
 "nbformat_minor": 4
}
